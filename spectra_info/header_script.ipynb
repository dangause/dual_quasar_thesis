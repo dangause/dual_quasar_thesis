{
 "cells": [
  {
   "cell_type": "code",
   "execution_count": 43,
   "metadata": {},
   "outputs": [],
   "source": [
    "from astropy.io import fits\n",
    "from astropy import units as u\n",
    "from astropy.utils.data import download_file\n",
    "from astropy.wcs import WCS\n",
    "from astropy.utils.data import get_pkg_data_filename"
   ]
  },
  {
   "cell_type": "code",
   "execution_count": 54,
   "metadata": {},
   "outputs": [],
   "source": [
    "fits_file = get_pkg_data_filename('11_17fit/j8pu0b010_drz.fits')"
   ]
  },
  {
   "cell_type": "code",
   "execution_count": 55,
   "metadata": {
    "scrolled": true
   },
   "outputs": [
    {
     "name": "stdout",
     "output_type": "stream",
     "text": [
      "Filename: 11_17fit/j8pu0b010_drz.fits\n",
      "No.    Name      Ver    Type      Cards   Dimensions   Format\n",
      "  0  PRIMARY       1 PrimaryHDU     830   ()      \n",
      "  1  SCI           1 ImageHDU        78   (4223, 4421)   float32   \n",
      "  2  WHT           1 ImageHDU        46   (4223, 4421)   float32   \n",
      "  3  CTX           1 ImageHDU        39   (4223, 4421)   int32   \n",
      "  4  HDRTAB        1 BinTableHDU    631   8R x 311C   [9A, 3A, K, D, D, D, D, D, D, D, D, D, D, D, D, D, K, 8A, 9A, 7A, 18A, 4A, D, D, D, D, 3A, D, D, D, D, D, D, D, D, D, D, D, D, K, 8A, 23A, D, D, D, D, K, K, K, 8A, K, 23A, 9A, 20A, K, 4A, K, K, K, K, K, K, 23A, D, D, D, D, K, K, 3A, 3A, 4A, 4A, L, D, D, D, 3A, 1A, K, D, D, D, D, D, 4A, 4A, 12A, 12A, 23A, 8A, 23A, 10A, 10A, D, D, 3A, 3A, 23A, 4A, 8A, 7A, 23A, D, K, D, 6A, 9A, 8A, D, D, L, 4A, 18A, 3A, K, 7A, 5A, 3A, D, 13A, 8A, 4A, 3A, L, K, L, K, L, K, K, D, D, D, D, D, D, 3A, 1A, D, 23A, D, D, D, 3A, 23A, L, 1A, 3A, 1A, D, 3A, 6A, K, D, D, D, D, D, D, D, D, D, D, 23A, D, D, D, D, 3A, D, D, D, 1A, K, K, K, K, K, K, 23A, K, 5A, 7A, D, D, D, D, D, D, D, D, D, D, D, D, D, D, D, D, D, 12A, D, 24A, 23A, D, 3A, 8A, D, K, D, D, 6A, 4A, D, 4A, K, D, K, 7A, D, D, D, D, D, 23A, 23A, D, 8A, D, 29A, D, 3A, D, L, D, D, 3A, 8A, 8A, 2A, D, 8A, K, 1A, 1A, 1A, 1A, D, D, D, D, D, D, 4A, D, 4A, D, 4A, K, 4A, 3A, 1A, L, K, K, 1A, D, D, D, D, K, 3A, L, L, 6A, L, D, D, 11A, 1A, 1A, 3A, 8A, 1A, D, K, D, L, L, 5A, 4A, K, D, D, D, D, D, D, D, D, D, D, D, D, D, D, 8A, 8A, 3A, 3A]   \n"
     ]
    }
   ],
   "source": [
    "fits.info(fits_file)"
   ]
  },
  {
   "cell_type": "code",
   "execution_count": 61,
   "metadata": {
    "scrolled": true
   },
   "outputs": [
    {
     "name": "stdout",
     "output_type": "stream",
     "text": [
      "XTENSION= 'IMAGE   '           / Image extension                                \n",
      "BITPIX  =                  -32 / array data type                                \n",
      "NAXIS   =                    2 / number of array dimensions                     \n",
      "NAXIS1  =                 4223                                                  \n",
      "NAXIS2  =                 4421                                                  \n",
      "PCOUNT  =                    0 / number of parameters                           \n",
      "GCOUNT  =                    1 / number of groups                               \n",
      "INHERIT =                    T / inherit the primary header                     \n",
      "EXTNAME = 'SCI     '           / extension name                                 \n",
      "EXTVER  =                    1                                                  \n",
      "BUNIT   = 'ELECTRONS/S'        / Units of science product                       \n",
      "                                                                                \n",
      "CD1_1   = 2.41164175209632E-06                                                  \n",
      "CD1_2   = 1.36779098778814E-05                                                  \n",
      "CD2_1   = 1.36779098778814E-05                                                  \n",
      "CD2_2   = -2.4116417520963E-06                                                  \n",
      "CRVAL1  =    150.5198811905203                                                  \n",
      "CRVAL2  =    2.026737460928552                                                  \n",
      "CRPIX1  =               2111.5                                                  \n",
      "CRPIX2  =               2210.5                                                  \n",
      "CTYPE1  = 'RA---TAN'                                                            \n",
      "CTYPE2  = 'DEC--TAN'                                                            \n",
      "ORIENTAT=    99.99941986111492                                                  \n",
      "VAFACTOR=                  1.0                                                  \n",
      "              / WFC CCD CHIP IDENTIFICATION                                     \n",
      "                                                                                \n",
      "CCDCHIP = '-999    '           / CCD chip (1 or 2)                              \n",
      "                                                                                \n",
      "              / World Coordinate System and Related Parameters                  \n",
      "                                                                                \n",
      "RAW_LTV1=                  0.0 / original offset in X to subsection start       \n",
      "RAW_LTV2=                  0.0 / original offset in Y to subsection start       \n",
      "LTM1_1  =                  1.0 / reciprocal of sampling rate in X               \n",
      "LTM2_2  =                  1.0 / reciprocal of sampling rate in Y               \n",
      "RA_APER =   1.505208803656E+02 / RA of aperture reference position              \n",
      "DEC_APER=   2.026983073092E+00 / Declination of aperture reference position     \n",
      "                                                                                \n",
      "              / READOUT DEFINITION PARAMETERS                                   \n",
      "                                                                                \n",
      "                                                                                \n",
      "              / PHOTOMETRY KEYWORDS                                             \n",
      "                                                                                \n",
      "PHOTMODE= 'ACS WFC1 F814W MJD#53069.5211' / obser                               \n",
      "PHOTFLAM=      6.957571725E-20 / inverse sensitivity, ergs/cm2/Ang/electron     \n",
      "PHOTZPT =       -2.1100000E+01 / ST magnitude zero point                        \n",
      "PHOTPLAM=        8.0471567E+03 / Pivot wavelength (Angstroms)                   \n",
      "PHOTBW  =        6.5404297E+02 / RMS bandwidth of filter plus detector          \n",
      "                                                                                \n",
      "              / REPEATED EXPOSURES INFO                                         \n",
      "                                                                                \n",
      "NCOMBINE=                    4 / number of image sets combined during CR rejecti\n",
      "                                                                                \n",
      "              / DATA PACKET INFORMATION                                         \n",
      "                                                                                \n",
      "                                                                                \n",
      "              / ON-BOARD COMPRESSION INFORMATION                                \n",
      "                                                                                \n",
      "                                                                                \n",
      "              / IMAGE STATISTICS AND DATA QUALITY FLAGS                         \n",
      "                                                                                \n",
      "GOODMIN =           -577.62933 / minimum value of good pixels                   \n",
      "GOODMAX =              66888.5 / maximum value of good pixels                   \n",
      "GOODMEAN=          49.95815125 / mean value of good pixels                      \n",
      "SNRMIN  =           -2.1255047 / minimum signal to noise of good pixels         \n",
      "SNRMAX  =        2.0850256E+02 / maximum signal to noise of good pixels         \n",
      "SNRMEAN =          5.300602975 / mean value of signal to noise of good pixels   \n",
      "RADESYS = 'FK5     '                                                            \n",
      "RADESYSO= 'FK5     '                                                            \n",
      "EQUINOXO=               2000.0                                                  \n",
      "TDD_CYB = ''                                                                    \n",
      "TDD_CXB =    -3.9760082443E-07                                                  \n",
      "TDD_CTA = ''                                                                    \n",
      "TDD_CXA = ''                                                                    \n",
      "TDD_CYA = ''                                                                    \n",
      "TDD_CTB =     1.7872250212E-06                                                  \n",
      "IDCTAB  = 'jref$0461802ej_idc.fits'                                             \n",
      "WCSNAME = 'DRZWCS  '                                                            \n",
      "MDRIZSKY=    43.66179180145264 / Sky value computed by AstroDrizzle             \n",
      "EXPTIME =                 2028                                                  \n"
     ]
    }
   ],
   "source": [
    "print(repr(fits.getheader(fits_file,1)))"
   ]
  },
  {
   "cell_type": "code",
   "execution_count": 60,
   "metadata": {},
   "outputs": [],
   "source": [
    "fits.setval(fits_file, 'EXPTIME', value=2028,ext=1)"
   ]
  },
  {
   "cell_type": "code",
   "execution_count": null,
   "metadata": {},
   "outputs": [],
   "source": []
  }
 ],
 "metadata": {
  "kernelspec": {
   "display_name": "Python 3",
   "language": "python",
   "name": "python3"
  },
  "language_info": {
   "codemirror_mode": {
    "name": "ipython",
    "version": 3
   },
   "file_extension": ".py",
   "mimetype": "text/x-python",
   "name": "python",
   "nbconvert_exporter": "python",
   "pygments_lexer": "ipython3",
   "version": "3.7.3"
  }
 },
 "nbformat": 4,
 "nbformat_minor": 2
}
